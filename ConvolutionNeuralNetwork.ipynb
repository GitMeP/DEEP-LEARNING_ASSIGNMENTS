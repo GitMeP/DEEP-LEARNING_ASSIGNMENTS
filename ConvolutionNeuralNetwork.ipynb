{
  "nbformat": 4,
  "nbformat_minor": 0,
  "metadata": {
    "colab": {
      "name": "ConvolutionNeuralNetwork.ipynb",
      "provenance": [],
      "collapsed_sections": []
    },
    "kernelspec": {
      "name": "python3",
      "display_name": "Python 3"
    },
    "language_info": {
      "name": "python"
    }
  },
  "cells": [
    {
      "cell_type": "code",
      "source": [
        "import pandas as pd\n",
        "import numpy as np\n",
        "import matplotlib.pyplot as plt"
      ],
      "metadata": {
        "id": "tDZKX9j_oKLQ"
      },
      "execution_count": null,
      "outputs": []
    },
    {
      "cell_type": "markdown",
      "source": [
        "Creating a model based on MNIST Dataset of Handwritten Digits \n",
        "\n",
        "Step 1: lets load our dataset of mnist"
      ],
      "metadata": {
        "id": "di6GJzK1oUa8"
      }
    },
    {
      "cell_type": "code",
      "execution_count": null,
      "metadata": {
        "colab": {
          "base_uri": "https://localhost:8080/"
        },
        "id": "GSAplNWqnceW",
        "outputId": "646be60b-2881-40f7-ed5a-38eaf04a498b"
      },
      "outputs": [
        {
          "output_type": "stream",
          "name": "stdout",
          "text": [
            "Downloading data from https://storage.googleapis.com/tensorflow/tf-keras-datasets/mnist.npz\n",
            "11493376/11490434 [==============================] - 0s 0us/step\n",
            "11501568/11490434 [==============================] - 0s 0us/step\n",
            "(60000, 28, 28)\n"
          ]
        }
      ],
      "source": [
        "from keras.datasets import mnist \n",
        "(x_train,y_train),(x_test,y_test)=mnist.load_data()\n",
        "print(x_train.shape)"
      ]
    },
    {
      "cell_type": "code",
      "source": [
        "print(\"Initial shape or dimension of x_train:\",str(x_train.shape))\n",
        "print(\"Number of samples in our trainig data:\",str(len(x_train)))\n",
        "print(\"Number of labels in our trainig data:\",str(len(y_train)))\n",
        "print(\"Number of samples in our test data:\",str(len(x_test)))\n",
        "print(\"Number of labels in our test data:\",str(len(y_test)))\n",
        "print()\n",
        "print(\"Dimension of x_train:\",str(x_train[0].shape))\n",
        "print(\"Labels in y_train:\",str(y_train.shape))\n",
        "print()\n",
        "print(\"Dimension of x_test\",str(x_test[0].shape))\n",
        "print(\"Labels of y_test:\",str(y_test.shape))"
      ],
      "metadata": {
        "colab": {
          "base_uri": "https://localhost:8080/"
        },
        "id": "itF-ahq6Sr2-",
        "outputId": "4c4e38f0-5e17-42a0-edbc-af338f1c158d"
      },
      "execution_count": null,
      "outputs": [
        {
          "output_type": "stream",
          "name": "stdout",
          "text": [
            "Initial shape or dimension of x_train: (60000, 28, 28)\n",
            "Number of samples in our trainig data: 60000\n",
            "Number of labels in our trainig data: 60000\n",
            "Number of samples in our test data: 10000\n",
            "Number of labels in our test data: 10000\n",
            "\n",
            "Dimension of x_train: (28, 28)\n",
            "Labels in y_train: (60000,)\n",
            "\n",
            "Dimension of x_test (28, 28)\n",
            "Labels of y_test: (10000,)\n"
          ]
        }
      ]
    },
    {
      "cell_type": "code",
      "source": [
        "plt.subplot(431)\n",
        "random_num=np.random.randint(0,len(x_train))\n",
        "plt.imshow(x_train[random_num],cmap=plt.get_cmap('gray'))\n",
        "\n",
        "plt.subplot(432)\n",
        "random_num=np.random.randint(0,len(x_train))\n",
        "plt.imshow(x_train[random_num],cmap=plt.get_cmap(\"gray\"))\n",
        "\n",
        "plt.subplot(433)\n",
        "random_num=np.random.randint(0,len(x_train))\n",
        "plt.imshow(x_train[random_num],cmap=plt.get_cmap(\"gray\"))\n",
        "\n",
        "plt.subplot(434)\n",
        "random_num=np.random.randint(0,len(x_train))\n",
        "plt.imshow(x_train[random_num],cmap=plt.get_cmap(\"gray\"))\n",
        "\n",
        "plt.subplot(435)\n",
        "random_num=np.random.randint(0,len(x_train))\n",
        "plt.imshow(x_train[random_num],cmap=plt.get_cmap(\"gray\"))\n",
        "\n",
        "plt.subplot(436)\n",
        "random_num=np.random.randint(0,len(x_train))\n",
        "plt.imshow(x_train[random_num],cmap=plt.get_cmap(\"gray\"))\n",
        "\n",
        "plt.subplot(437)\n",
        "random_num=np.random.randint(0,len(x_train))\n",
        "plt.imshow(x_train[random_num],cmap=plt.get_cmap(\"gray\"))\n",
        "\n",
        "plt.subplot(438)\n",
        "random_num=np.random.randint(0,len(x_train))\n",
        "plt.imshow(x_train[random_num],cmap=plt.get_cmap(\"gray\"))\n",
        "\n",
        "plt.subplot(439)\n",
        "random_num=np.random.randint(0,len(x_train))\n",
        "plt.imshow(x_train[random_num],cmap=plt.get_cmap(\"gray\"))\n",
        "\n",
        "plt.show()"
      ],
      "metadata": {
        "colab": {
          "base_uri": "https://localhost:8080/",
          "height": 212
        },
        "id": "_LWOJKIIUnXT",
        "outputId": "7e10ff37-a2e0-4fe5-f7fa-1cffd4c48399"
      },
      "execution_count": null,
      "outputs": [
        {
          "output_type": "display_data",
          "data": {
            "image/png": "[encoded data removed]",
            "text/plain": [
              "<Figure size 432x288 with 9 Axes>"
            ]
          },
          "metadata": {
            "needs_background": "light"
          }
        }
      ]
    },
    {
      "cell_type": "markdown",
      "source": [
        "Preparing dataset for training"
      ],
      "metadata": {
        "id": "IgkzPFX2WdzQ"
      }
    },
    {
      "cell_type": "code",
      "source": [
        "# storing the number of rows and columns\n",
        "img_rows = x_train[0].shape[0]\n",
        "img_cols = x_train[0].shape[1]\n",
        "\n",
        "\n",
        "# Getting our date in the right 'shape' needed for Keras\n",
        "# We need to add a 4th dimenion to our date thereby changing our\n",
        "# Our original image shape of (60000,28,28) to (60000,28,28,1)\n",
        "x_train = x_train.reshape(x_train.shape[0], img_rows, img_cols, 1)\n",
        "x_test = x_test.reshape(x_test.shape[0], img_rows, img_cols, 1)\n",
        "\n",
        "\n",
        "#store the shape of the single image\n",
        "input_shape=(img_rows,img_cols,1)\n",
        "\n",
        "#change our image type to float32 data type\n",
        "x_train=x_train.astype(\"float32\")\n",
        "x_test=x_test.astype(\"float32\")\n",
        "\n",
        "# Normalize our data by changing the range from (0 to 255) to (0 to 1)\n",
        "x_train /=255\n",
        "x_test /=255\n",
        "\n",
        "print(\"x_train shape:\",x_train.shape)\n",
        "print(x_train.shape[0],'train samples')\n",
        "print(x_test.shape[0],'test samples ')"
      ],
      "metadata": {
        "id": "KteNi0mdotNF",
        "colab": {
          "base_uri": "https://localhost:8080/"
        },
        "outputId": "0f701cdd-a8cc-4334-8d42-023bcf77a946"
      },
      "execution_count": null,
      "outputs": [
        {
          "output_type": "stream",
          "name": "stdout",
          "text": [
            "x_train shape: (60000, 28, 28, 1)\n",
            "60000 train samples\n",
            "10000 test samples \n"
          ]
        }
      ]
    },
    {
      "cell_type": "code",
      "source": [
        "from keras.utils import np_utils\n",
        "\n",
        "# Now we one hot encode outputs\n",
        "y_train = np_utils.to_categorical(y_train)\n",
        "y_test = np_utils.to_categorical(y_test)\n",
        "\n",
        "# Let's count the number columns in our hot encoded matrix \n",
        "print (\"Number of Classes: \" + str(y_test.shape[1]))\n",
        "\n",
        "num_classes = y_test.shape[1]\n",
        "num_pixels = x_train.shape[1] * x_train.shape[2]"
      ],
      "metadata": {
        "id": "ID_0V8TKotHJ",
        "colab": {
          "base_uri": "https://localhost:8080/"
        },
        "outputId": "42459f9c-a468-4116-ea8e-6e995c830a8a"
      },
      "execution_count": null,
      "outputs": [
        {
          "output_type": "stream",
          "name": "stdout",
          "text": [
            "Number of Classes: 10\n"
          ]
        }
      ]
    },
    {
      "cell_type": "code",
      "source": [
        "\n",
        "import keras\n",
        "from keras.datasets import mnist\n",
        "from keras.models import Sequential\n",
        "from keras.layers import Dense, Dropout, Flatten\n",
        "from keras.layers import Conv2D, MaxPooling2D\n",
        "from keras import backend as K\n",
        "#from keras.optimizers import SGD\n",
        "\n",
        "model=Sequential()\n",
        "model.add(Conv2D(32,kernel_size=(3,3),\n",
        "                 activation='relu',\n",
        "                 input_shape=input_shape))\n",
        "model.add(Conv2D(64,(3,3),activation='relu'))\n",
        "model.add(MaxPooling2D(pool_size=(2,2)))\n",
        "model.add(Dropout(0.25))\n",
        "model.add(Flatten())\n",
        "model.add(Dense(128,activation='relu'))\n",
        "model.add(Dense(num_classes,activation='softmax'))\n",
        "model.compile(loss='categorical_crossentropy',\n",
        "               optimizer='sgd',\n",
        "               metrics=['accuracy'])\n",
        "print(model.summary())"
      ],
      "metadata": {
        "id": "1EmcwyvnotEX",
        "colab": {
          "base_uri": "https://localhost:8080/"
        },
        "outputId": "c2fb8dd9-6f48-489b-cd03-3fa4288fd404"
      },
      "execution_count": null,
      "outputs": [
        {
          "output_type": "stream",
          "name": "stdout",
          "text": [
            "Model: \"sequential_1\"\n",
            "_________________________________________________________________\n",
            " Layer (type)                Output Shape              Param #   \n",
            "=================================================================\n",
            " conv2d_2 (Conv2D)           (None, 26, 26, 32)        320       \n",
            "                                                                 \n",
            " conv2d_3 (Conv2D)           (None, 24, 24, 64)        18496     \n",
            "                                                                 \n",
            " max_pooling2d_1 (MaxPooling  (None, 12, 12, 64)       0         \n",
            " 2D)                                                             \n",
            "                                                                 \n",
            " dropout_1 (Dropout)         (None, 12, 12, 64)        0         \n",
            "                                                                 \n",
            " flatten_1 (Flatten)         (None, 9216)              0         \n",
            "                                                                 \n",
            " dense_2 (Dense)             (None, 128)               1179776   \n",
            "                                                                 \n",
            " dense_3 (Dense)             (None, 10)                1290      \n",
            "                                                                 \n",
            "=================================================================\n",
            "Total params: 1,199,882\n",
            "Trainable params: 1,199,882\n",
            "Non-trainable params: 0\n",
            "_________________________________________________________________\n",
            "None\n"
          ]
        }
      ]
    },
    {
      "cell_type": "markdown",
      "source": [
        "Train our model"
      ],
      "metadata": {
        "id": "3F4rfKSRFMpa"
      }
    },
    {
      "cell_type": "code",
      "source": [
        "batch_size=32\n",
        "epochs=10\n",
        "history=model.fit(x_train,\n",
        "               y_train,\n",
        "               batch_size=batch_size,\n",
        "               epochs=epochs,\n",
        "               verbose=1,\n",
        "               validation_data=(x_test,y_test))\n",
        "score=model.evaluate(x_test,y_test,verbose=0)\n",
        "print(\"Test loss:\",score[0])\n",
        "print(\"Test accuracy:\",score[1])"
      ],
      "metadata": {
        "id": "89Kt3B8-otA7",
        "colab": {
          "base_uri": "https://localhost:8080/"
        },
        "outputId": "99eb957c-2bd5-459d-802f-28665138688d"
      },
      "execution_count": null,
      "outputs": [
        {
          "output_type": "stream",
          "name": "stdout",
          "text": [
            "Epoch 1/10\n",
            "1875/1875 [==============================] - 206s 110ms/step - loss: 0.4534 - accuracy: 0.8619 - val_loss: 0.2014 - val_accuracy: 0.9411\n",
            "Epoch 2/10\n",
            "1875/1875 [==============================] - 235s 125ms/step - loss: 0.1793 - accuracy: 0.9462 - val_loss: 0.1152 - val_accuracy: 0.9657\n",
            "Epoch 3/10\n",
            "1875/1875 [==============================] - 191s 102ms/step - loss: 0.1193 - accuracy: 0.9634 - val_loss: 0.0789 - val_accuracy: 0.9755\n",
            "Epoch 4/10\n",
            "1875/1875 [==============================] - 166s 88ms/step - loss: 0.0882 - accuracy: 0.9734 - val_loss: 0.0626 - val_accuracy: 0.9790\n",
            "Epoch 5/10\n",
            "1875/1875 [==============================] - 165s 88ms/step - loss: 0.0704 - accuracy: 0.9787 - val_loss: 0.0542 - val_accuracy: 0.9827\n",
            "Epoch 6/10\n",
            "1875/1875 [==============================] - 165s 88ms/step - loss: 0.0598 - accuracy: 0.9823 - val_loss: 0.0494 - val_accuracy: 0.9838\n",
            "Epoch 7/10\n",
            "1875/1875 [==============================] - 166s 88ms/step - loss: 0.0528 - accuracy: 0.9841 - val_loss: 0.0425 - val_accuracy: 0.9859\n",
            "Epoch 8/10\n",
            "1875/1875 [==============================] - 167s 89ms/step - loss: 0.0458 - accuracy: 0.9855 - val_loss: 0.0419 - val_accuracy: 0.9862\n",
            "Epoch 9/10\n",
            "1875/1875 [==============================] - 165s 88ms/step - loss: 0.0404 - accuracy: 0.9880 - val_loss: 0.0383 - val_accuracy: 0.9870\n",
            "Epoch 10/10\n",
            "1875/1875 [==============================] - 167s 89ms/step - loss: 0.0375 - accuracy: 0.9886 - val_loss: 0.0379 - val_accuracy: 0.9868\n",
            "Test loss: 0.03793741762638092\n",
            "Test accuracy: 0.9868000149726868\n"
          ]
        }
      ]
    },
    {
      "cell_type": "markdown",
      "source": [
        "plotting loss and accuracy charts"
      ],
      "metadata": {
        "id": "a01oNR9NF8ar"
      }
    },
    {
      "cell_type": "code",
      "source": [
        "# Plotting our loss charts\n",
        "import matplotlib.pyplot as plt\n",
        "\n",
        "history_dict = history.history\n",
        "\n",
        "loss_values = history_dict['loss']\n",
        "val_loss_values = history_dict['val_loss']\n",
        "epochs = range(1, len(loss_values) + 1)\n",
        "\n",
        "line1 = plt.plot(epochs, val_loss_values, label='Validation/Test Loss')\n",
        "line2 = plt.plot(epochs, loss_values, label='Training Loss')\n",
        "plt.setp(line1, linewidth=2.0, marker = '+', markersize=10.0)\n",
        "plt.setp(line2, linewidth=2.0, marker = '4', markersize=10.0)\n",
        "plt.xlabel('Epochs') \n",
        "plt.ylabel('Loss')\n",
        "plt.grid(True)\n",
        "plt.legend()\n",
        "plt.show()"
      ],
      "metadata": {
        "id": "VfTIud4uos7d",
        "colab": {
          "base_uri": "https://localhost:8080/",
          "height": 279
        },
        "outputId": "5ffc9dd2-93a9-46da-c2aa-395dfc8c7294"
      },
      "execution_count": null,
      "outputs": [
        {
          "output_type": "display_data",
          "data": {
            "image/png": "[encoded data removed]",
            "text/plain": [
              "<Figure size 432x288 with 1 Axes>"
            ]
          },
          "metadata": {
            "needs_background": "light"
          }
        }
      ]
    },
    {
      "cell_type": "code",
      "source": [
        "# Plotting our accuracy charts\n",
        "import matplotlib.pyplot as plt\n",
        "\n",
        "history_dict = history.history\n",
        "print(history_dict.keys())\n",
        "\n",
        "acc_values = history_dict['accuracy']\n",
        "val_acc_values = history_dict['val_accuracy']\n",
        "epochs = range(1, len(loss_values) + 1)\n",
        "\n",
        "line1 = plt.plot(epochs, val_acc_values, label='Validation/Test Accuracy')\n",
        "line2 = plt.plot(epochs, acc_values, label='Training Accuracy')\n",
        "plt.setp(line1, linewidth=2.0, marker = '+', markersize=10.0)\n",
        "plt.setp(line2, linewidth=2.0, marker = '4', markersize=10.0)\n",
        "plt.xlabel('Epochs') \n",
        "plt.ylabel('Accuracy')\n",
        "plt.grid(True)\n",
        "plt.legend()\n",
        "plt.show()"
      ],
      "metadata": {
        "id": "56KjnX5Wos4Y",
        "colab": {
          "base_uri": "https://localhost:8080/",
          "height": 296
        },
        "outputId": "102b0aa2-9e37-48bc-ccf6-f002af5be5e0"
      },
      "execution_count": null,
      "outputs": [
        {
          "output_type": "stream",
          "name": "stdout",
          "text": [
            "dict_keys(['loss', 'accuracy', 'val_loss', 'val_accuracy'])\n"
          ]
        },
        {
          "output_type": "display_data",
          "data": {
            "image/png": "[encoded data removed]",
            "text/plain": [
              "<Figure size 432x288 with 1 Axes>"
            ]
          },
          "metadata": {
            "needs_background": "light"
          }
        }
      ]
    },
    {
      "cell_type": "markdown",
      "source": [
        "Save model for future"
      ],
      "metadata": {
        "id": "bjjsuhV_RRbh"
      }
    },
    {
      "cell_type": "code",
      "source": [
        "#we can also use pickle for this\n",
        "model.save('C:/Users/Desktop/Deep Learning/mnist.h5')\n",
        "print(\"Model Saved\")"
      ],
      "metadata": {
        "colab": {
          "base_uri": "https://localhost:8080/"
        },
        "id": "4dqLmE6iRVM2",
        "outputId": "ae66961d-b723-4f41-e5e9-9de0368293e9"
      },
      "execution_count": null,
      "outputs": [
        {
          "output_type": "stream",
          "name": "stdout",
          "text": [
            "Model Saved\n"
          ]
        }
      ]
    }
  ]
}