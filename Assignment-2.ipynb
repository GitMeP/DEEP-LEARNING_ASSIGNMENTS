{
  "nbformat": 4,
  "nbformat_minor": 0,
  "metadata": {
    "colab": {
      "name": "Untitled4.ipynb",
      "provenance": []
    },
    "kernelspec": {
      "name": "python3",
      "display_name": "Python 3"
    },
    "language_info": {
      "name": "python"
    }
  },
  "cells": [
    {
      "cell_type": "markdown",
      "source": [
        "**IMPLEMENT MEAN SQUARED ERROR USING NUMPY** "
      ],
      "metadata": {
        "id": "GCUgnYyYunYc"
      }
    },
    {
      "cell_type": "code",
      "execution_count": 8,
      "metadata": {
        "colab": {
          "base_uri": "https://localhost:8080/"
        },
        "id": "UENVSVy_q64s",
        "outputId": "b7bc5af5-50fe-404e-c206-6f3fe98ca60a"
      },
      "outputs": [
        {
          "output_type": "stream",
          "name": "stdout",
          "text": [
            "Mean Squared Error is: 31.642000000000003\n"
          ]
        }
      ],
      "source": [
        "import numpy as np\n",
        "ytrue=np.array([18,10,19,12.9,21])\n",
        "ypred=np.array([13,18,11,14,19])\n",
        "def mean_squared_error(ytrue,ypred):\n",
        "  summ=0\n",
        "  n=len(ytrue)\n",
        "  for i in range(0,n):\n",
        "    diff=ytrue[i]-ypred[i]\n",
        "    sqr_diff=diff**2\n",
        "    summ=summ+sqr_diff\n",
        "  mse=summ/n\n",
        "  return mse\n",
        "MSE=mean_squared_error(ytrue,ypred)\n",
        "print(\"Mean Squared Error is:\",MSE)"
      ]
    },
    {
      "cell_type": "markdown",
      "source": [
        "OR WE CAN USE DIRECTLY "
      ],
      "metadata": {
        "id": "p-3JOWjww_yz"
      }
    },
    {
      "cell_type": "code",
      "source": [
        "MSE = np.square(np.subtract(ytrue,ypred)).mean()\n",
        "print('Mean Squared Error is:',MSE)"
      ],
      "metadata": {
        "colab": {
          "base_uri": "https://localhost:8080/"
        },
        "id": "4ezvc-ZHwtX6",
        "outputId": "7983aa61-82f6-4cde-8fba-02bed491fd04"
      },
      "execution_count": 12,
      "outputs": [
        {
          "output_type": "stream",
          "name": "stdout",
          "text": [
            "Mean Squared Error is: 31.642000000000003\n"
          ]
        }
      ]
    },
    {
      "cell_type": "markdown",
      "source": [
        "**IMPLEMENT MEAN SQUARED ERROR WITHOUT USING NUMPY**"
      ],
      "metadata": {
        "id": "HbVKi2Y0umGG"
      }
    },
    {
      "cell_type": "code",
      "source": [
        "ytrue=[18,10,19,12.9,21]\n",
        "ypred=[13,18,11,14,19]\n",
        "summ=0\n",
        "n=len(ytrue)\n",
        "for i in range(0,n):\n",
        "  diff=ytrue[i]-ypred[i]\n",
        "  sqr_diff=diff**2\n",
        "  summ=summ+sqr_diff\n",
        "MSE=summ/n\n",
        "print(\"Mean Squared Error is:\",MSE)"
      ],
      "metadata": {
        "colab": {
          "base_uri": "https://localhost:8080/"
        },
        "id": "dGDuMDc3vgLl",
        "outputId": "a22f9c12-dd71-48ef-cc4b-4d3467d5d1b0"
      },
      "execution_count": 11,
      "outputs": [
        {
          "output_type": "stream",
          "name": "stdout",
          "text": [
            "Mean Squared Error is: 31.642000000000003\n"
          ]
        }
      ]
    }
  ]
}