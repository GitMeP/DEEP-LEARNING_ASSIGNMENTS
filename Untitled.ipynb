{
 "cells": [
  {
   "cell_type": "code",
   "execution_count": 132,
   "id": "ff4093d8",
   "metadata": {},
   "outputs": [],
   "source": [
    "import pandas as pd\n",
    "import numpy as np\n",
    "import matplotlib.pyplot as plt\n",
    "import sklearn \n"
   ]
  },
  {
   "cell_type": "code",
   "execution_count": 133,
   "id": "b871ffef",
   "metadata": {},
   "outputs": [],
   "source": [
    "def sigmoid(x):\n",
    "    #applying \n",
    "    #sigmoid=1/(1+e^-x)   ds/dx=\n",
    "    return 1/(1+np.exp(-x))\n",
    "\n",
    "def sigmoid_derivative(x):\n",
    "    return x*(1-x)"
   ]
  },
  {
   "cell_type": "code",
   "execution_count": 134,
   "id": "53f36306",
   "metadata": {},
   "outputs": [
    {
     "name": "stdout",
     "output_type": "stream",
     "text": [
      "Min= 0.1\n",
      "Max= 134.0\n",
      "Normalised input neurons:\n",
      " [[0.67139656 0.         0.74607916]\n",
      " [0.74607916 0.00821509 0.60418223]\n",
      " [0.52203137 0.00821509 0.83569828]\n",
      " [0.64899178 0.00507842 1.        ]]\n"
     ]
    }
   ],
   "source": [
    "#Hyperparameters/input parameters\n",
    "LR=0.01\n",
    "No_of_Epocs=5000  #No of iterations\n",
    "TargetMSE=0.01\n",
    "\"\"\"\n",
    "InputNeurons=[\n",
    "                [0,0,1],\n",
    "                [1,1,1],\n",
    "                [1,0,1],\n",
    "                [0,1,1],\n",
    "              ]\n",
    "\"\"\"\n",
    "InputNeurons=[\n",
    "                [90,0.1,100],\n",
    "                [100,1.2,81],\n",
    "                [70,1.2,112],\n",
    "                [87,0.78,134],\n",
    "              ]\n",
    "min=np.min(InputNeurons)\n",
    "max=np.max(InputNeurons)\n",
    "print(\"Min=\",min)\n",
    "print(\"Max=\",max)\n",
    "InputNeurons=(InputNeurons-min)/(max-min)\n",
    "print(\"Normalised input neurons:\\n\",InputNeurons)"
   ]
  },
  {
   "cell_type": "code",
   "execution_count": 135,
   "id": "6496b9bb",
   "metadata": {},
   "outputs": [
    {
     "name": "stdout",
     "output_type": "stream",
     "text": [
      "(4, 3)\n",
      "No of Neurons:  3\n",
      "Input Neurons:  [[0.67139656 0.         0.74607916]\n",
      " [0.74607916 0.00821509 0.60418223]\n",
      " [0.52203137 0.00821509 0.83569828]\n",
      " [0.64899178 0.00507842 1.        ]]\n",
      "Output       : [[0]\n",
      " [1]\n",
      " [1]\n",
      " [0]]\n"
     ]
    }
   ],
   "source": [
    "InputNeurons=np.array(InputNeurons)\n",
    "output=np.array([[0,1,1,0]]).T\n",
    "\n",
    "#dimension of neurons\n",
    "dim=InputNeurons.shape\n",
    "No_of_Neurons=dim[1]\n",
    "print(dim)\n",
    "print(\"No of Neurons: \",No_of_Neurons)\n",
    "print(\"Input Neurons: \",InputNeurons)\n",
    "print(\"Output       :\",output)"
   ]
  },
  {
   "cell_type": "code",
   "execution_count": 136,
   "id": "3fe46ba3",
   "metadata": {},
   "outputs": [
    {
     "name": "stdout",
     "output_type": "stream",
     "text": [
      "Initial Weights:  [[0.35737955]\n",
      " [0.74848305]\n",
      " [0.12035341]]\n"
     ]
    }
   ],
   "source": [
    "#Weights initialization\n",
    "#for each neurons we need a weights and weights will be initialised randomly\n",
    "wts=np.random.random((No_of_Neurons,1))\n",
    "print(\"Initial Weights: \",wts)"
   ]
  },
  {
   "cell_type": "code",
   "execution_count": 137,
   "id": "22730105",
   "metadata": {},
   "outputs": [
    {
     "data": {
      "text/plain": [
       "Text(0.5, 1.0, 'MSE Profile')"
      ]
     },
     "execution_count": 137,
     "metadata": {},
     "output_type": "execute_result"
    },
    {
     "data": {
      "image/png": "[encoded data removed]",
      "text/plain": [
       "<Figure size 432x288 with 1 Axes>"
      ]
     },
     "metadata": {
      "needs_background": "light"
     },
     "output_type": "display_data"
    }
   ],
   "source": [
    "#training sections\n",
    "MSE=[]\n",
    "err=TargetMSE\n",
    "r=0\n",
    "while(r<=No_of_Epocs and err>=TargetMSE):\n",
    "# for r in range(0,No_of_Epocs):\n",
    "    predoutput=np.dot(InputNeurons,wts)\n",
    "    #rint(\"Summing output:\\n\",predoutput)\n",
    "    predoutput=sigmoid(predoutput)\n",
    "    #rint(\"Sigmoid output:\\n\",predoutput)\n",
    "    Error=output-predoutput\n",
    "    t=np.dot(Error.T,Error)\n",
    "    MSE.append(t[0])\n",
    "    #rint(\"Error:\\n\",Error)\n",
    "    corr=np.dot(InputNeurons.T,Error*sigmoid_derivative(predoutput))\n",
    "    wts=wts+corr\n",
    "    r=r+1\n",
    "    #int(\"updated wts:\",wts)\n",
    "#E=np.array(MSE)\n",
    "plt.plot(MSE)\n",
    "plt.grid()\n",
    "plt.xlabel(\"---Epocs--->\")\n",
    "plt.ylabel(\"---MSE--->\")\n",
    "plt.title(\"MSE Profile\")"
   ]
  },
  {
   "cell_type": "code",
   "execution_count": 138,
   "id": "dd3d3457",
   "metadata": {},
   "outputs": [
    {
     "name": "stdout",
     "output_type": "stream",
     "text": [
      "Final Output [0.78207636]\n"
     ]
    }
   ],
   "source": [
    "#testing section\n",
    "\"\"\"\n",
    "TestInput=np.array([0,1,1])\n",
    "\"\"\"\n",
    "TestInput=np.array([87,1,100])\n",
    "\n",
    "op=np.dot(TestInput,wts)\n",
    "Finaloutput=sigmoid(op)\n",
    "print(\"Final Output\",Finaloutput)"
   ]
  },
  {
   "cell_type": "code",
   "execution_count": null,
   "id": "cc6e5a3e",
   "metadata": {},
   "outputs": [],
   "source": []
  },
  {
   "cell_type": "code",
   "execution_count": null,
   "id": "3c5a9dcf",
   "metadata": {},
   "outputs": [],
   "source": []
  },
  {
   "cell_type": "code",
   "execution_count": null,
   "id": "4fee83bc",
   "metadata": {},
   "outputs": [],
   "source": []
  },
  {
   "cell_type": "code",
   "execution_count": null,
   "id": "4bb9f238",
   "metadata": {},
   "outputs": [],
   "source": []
  },
  {
   "cell_type": "code",
   "execution_count": null,
   "id": "a0119775",
   "metadata": {},
   "outputs": [],
   "source": []
  },
  {
   "cell_type": "code",
   "execution_count": null,
   "id": "111381c3",
   "metadata": {},
   "outputs": [],
   "source": []
  }
 ],
 "metadata": {
  "kernelspec": {
   "display_name": "Python 3 (ipykernel)",
   "language": "python",
   "name": "python3"
  },
  "language_info": {
   "codemirror_mode": {
    "name": "ipython",
    "version": 3
   },
   "file_extension": ".py",
   "mimetype": "text/x-python",
   "name": "python",
   "nbconvert_exporter": "python",
   "pygments_lexer": "ipython3",
   "version": "3.9.7"
  }
 },
 "nbformat": 4,
 "nbformat_minor": 5
}
